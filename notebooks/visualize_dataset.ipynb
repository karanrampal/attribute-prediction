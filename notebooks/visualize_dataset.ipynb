{
 "cells": [
  {
   "cell_type": "markdown",
   "id": "0dd1427a-49f8-4722-8e4a-dfa45f6ece8d",
   "metadata": {},
   "source": [
    "# Import libraries"
   ]
  },
  {
   "cell_type": "code",
   "execution_count": null,
   "id": "9ecd2f79-5bd6-4f10-a35a-620d938b7eeb",
   "metadata": {
    "tags": []
   },
   "outputs": [],
   "source": [
    "import os\n",
    "import sys\n",
    "sys.path.insert(0, \"../src\")\n",
    "\n",
    "import gcsfs\n",
    "import pandas as pd\n",
    "\n",
    "from utils.vis_utils import fetch_data, vis_data"
   ]
  },
  {
   "cell_type": "code",
   "execution_count": null,
   "id": "b824869e-f39c-4815-bf6c-20a10a90a3c8",
   "metadata": {
    "tags": []
   },
   "outputs": [],
   "source": [
    "gfs = gcsfs.GCSFileSystem(project=\"airesearch-1409\")"
   ]
  },
  {
   "cell_type": "markdown",
   "id": "54ba349e-f808-4b62-9b26-c483460a2143",
   "metadata": {
    "tags": []
   },
   "source": [
    "# Define variables"
   ]
  },
  {
   "cell_type": "code",
   "execution_count": null,
   "id": "9a7f0335-aa7b-4d3c-b6ab-a0a7680eaa72",
   "metadata": {
    "tags": []
   },
   "outputs": [],
   "source": [
    "root = \"gs://hm_images/\"\n",
    "img_path = \"images\"\n",
    "annotation_path = \"annotations\""
   ]
  },
  {
   "cell_type": "markdown",
   "id": "08ec2314-727d-45d7-8612-4aef3f8c7db6",
   "metadata": {},
   "source": [
    "# Read data"
   ]
  },
  {
   "cell_type": "code",
   "execution_count": null,
   "id": "7dee0dde-d2d3-4eea-958a-1f0d909ae7de",
   "metadata": {
    "tags": []
   },
   "outputs": [],
   "source": [
    "data = pd.read_csv(os.path.join(root, annotation_path, \"train.csv\"))\n",
    "print(data.shape)\n",
    "data.path = root + img_path + \"/\" + data.path\n",
    "data.head()"
   ]
  },
  {
   "cell_type": "code",
   "execution_count": null,
   "id": "9fffd0e5-253c-46d7-868d-7180f39dc5bb",
   "metadata": {
    "tags": []
   },
   "outputs": [],
   "source": [
    "data.iloc[:, 1:].describe()"
   ]
  },
  {
   "cell_type": "code",
   "execution_count": null,
   "id": "df579b27-0137-4a7f-af3c-75ad4361a60c",
   "metadata": {
    "tags": []
   },
   "outputs": [],
   "source": [
    "(data.shape[0] / data.iloc[:, 1:].sum(0)).round()"
   ]
  },
  {
   "cell_type": "markdown",
   "id": "daa41c20-126e-4802-af75-0f5e115d0aef",
   "metadata": {},
   "source": [
    "# Visualize"
   ]
  },
  {
   "cell_type": "code",
   "execution_count": null,
   "id": "f891d97a-98e8-4079-a84f-ac77fccefbaa",
   "metadata": {
    "tags": []
   },
   "outputs": [],
   "source": [
    "col_name = \"roundedcollar\"\n",
    "num_samples = 10"
   ]
  },
  {
   "cell_type": "code",
   "execution_count": null,
   "id": "ca02d49f-05f9-4f25-9466-6d97dd877f9b",
   "metadata": {
    "tags": []
   },
   "outputs": [],
   "source": [
    "img_list = fetch_data(data[data[col_name] == 1].path, num_samples, gfs)"
   ]
  },
  {
   "cell_type": "code",
   "execution_count": null,
   "id": "088e5fb7-f1f4-4d47-9c0f-b9c9bc5c0092",
   "metadata": {
    "tags": []
   },
   "outputs": [],
   "source": [
    "vis_data(img_list, col_name, num_cols=5, figsize=(15, 12))"
   ]
  },
  {
   "cell_type": "code",
   "execution_count": null,
   "id": "4559a0e5-f0ad-4745-967d-c32c5ff03e02",
   "metadata": {},
   "outputs": [],
   "source": []
  }
 ],
 "metadata": {
  "environment": {
   "kernel": "python3",
   "name": "pytorch-gpu.1-13.m106",
   "type": "gcloud",
   "uri": "gcr.io/deeplearning-platform-release/pytorch-gpu.1-13:m106"
  },
  "kernelspec": {
   "display_name": "Python 3",
   "language": "python",
   "name": "python3"
  },
  "language_info": {
   "codemirror_mode": {
    "name": "ipython",
    "version": 3
   },
   "file_extension": ".py",
   "mimetype": "text/x-python",
   "name": "python",
   "nbconvert_exporter": "python",
   "pygments_lexer": "ipython3",
   "version": "3.7.12"
  }
 },
 "nbformat": 4,
 "nbformat_minor": 5
}
