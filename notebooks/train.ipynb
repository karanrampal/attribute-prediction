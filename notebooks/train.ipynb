{
 "cells": [
  {
   "cell_type": "markdown",
   "id": "e9ef8f1a-4c93-4a8c-b1b1-d432679e2555",
   "metadata": {},
   "source": [
    "# Import libraries"
   ]
  },
  {
   "cell_type": "code",
   "execution_count": null,
   "id": "9c9247a2-996e-466e-a8e5-08d694a352d6",
   "metadata": {
    "tags": []
   },
   "outputs": [],
   "source": [
    "import glob\n",
    "import os\n",
    "import sys\n",
    "\n",
    "from google.cloud import aiplatform"
   ]
  },
  {
   "cell_type": "markdown",
   "id": "1e10b652-0f62-4197-a9bc-3d6d466bbe8d",
   "metadata": {},
   "source": [
    "# Setup variables"
   ]
  },
  {
   "cell_type": "code",
   "execution_count": null,
   "id": "fc08af3d-6ff1-46a3-a83d-ca6dc06d9679",
   "metadata": {
    "tags": []
   },
   "outputs": [],
   "source": [
    "PROJECT_ID = \"airesearch-1409\"\n",
    "BUCKET_NAME = \"gs://attributes_models/base_model\"\n",
    "REGION = \"europe-west4\"\n",
    "SERVICE_ACCOUNT = \"vertex-ai-training@airesearch-1409.iam.gserviceaccount.com\"\n",
    "IMAGE_URI = \"europe-docker.pkg.dev/vertex-ai/training/pytorch-gpu.1-12:latest\"\n",
    "\n",
    "TB_RESOURCE_NAME = f\"projects/184243724142/locations/{REGION}/tensorboards/4596222486894346240\"\n",
    "\n",
    "DISPLAY_NAME = \"attributes_model\"\n",
    "MODULE_NAME = \"trainer.train\"\n",
    "GCS_OUTPUT_URI_PREFIX = f\"{BUCKET_NAME}/{DISPLAY_NAME}\""
   ]
  },
  {
   "cell_type": "code",
   "execution_count": null,
   "id": "256e2790-d6aa-40e2-8aa0-a6108c0ba44c",
   "metadata": {
    "tags": []
   },
   "outputs": [],
   "source": [
    "os.environ[\"BUCKET_NAME\"] = BUCKET_NAME\n",
    "os.environ[\"SYS_EXE_PY_CONDA\"] = sys.executable"
   ]
  },
  {
   "cell_type": "markdown",
   "id": "6b08a9d4-1dea-4862-8c4a-2efe6ecfeea7",
   "metadata": {},
   "source": [
    "# Setup VertxAI"
   ]
  },
  {
   "cell_type": "code",
   "execution_count": null,
   "id": "64b5b77f-44bb-40f2-86a3-5bfbdbfabf97",
   "metadata": {
    "tags": []
   },
   "outputs": [],
   "source": [
    "aiplatform.init(\n",
    "    project=PROJECT_ID,\n",
    "    staging_bucket=BUCKET_NAME,\n",
    "    location=REGION,\n",
    ")"
   ]
  },
  {
   "cell_type": "code",
   "execution_count": null,
   "id": "9bb650bc-3fd7-4058-9073-216f97c02a46",
   "metadata": {
    "tags": []
   },
   "outputs": [],
   "source": [
    "tensorboard = aiplatform.Tensorboard(TB_RESOURCE_NAME)"
   ]
  },
  {
   "cell_type": "markdown",
   "id": "ac5ef128-04f4-4a41-a033-57d2ad096cfd",
   "metadata": {},
   "source": [
    "# Make package"
   ]
  },
  {
   "cell_type": "code",
   "execution_count": null,
   "id": "cf86ab6f-db90-4e3a-9c40-465c79261bdd",
   "metadata": {
    "scrolled": true,
    "tags": []
   },
   "outputs": [],
   "source": [
    "%%bash\n",
    "set -e\n",
    "cd ../\n",
    "$SYS_EXE_PY_CONDA -m build\n",
    "gsutil cp ./dist/*.whl $BUCKET_NAME"
   ]
  },
  {
   "cell_type": "code",
   "execution_count": null,
   "id": "aeb0ebda-eb7c-420a-8252-754c486bec78",
   "metadata": {
    "tags": []
   },
   "outputs": [],
   "source": [
    "package_name = os.path.basename(glob.glob(\"../dist/*.whl\")[0])\n",
    "package_name"
   ]
  },
  {
   "cell_type": "markdown",
   "id": "d81c0c55-5272-4cac-8b8e-cbde3ea16dbf",
   "metadata": {},
   "source": [
    "# Custom Job"
   ]
  },
  {
   "cell_type": "code",
   "execution_count": null,
   "id": "9a560962-5c53-426d-918f-43440c910e87",
   "metadata": {
    "tags": []
   },
   "outputs": [],
   "source": [
    "replica_count = 1\n",
    "machine_type = \"n1-standard-4\"\n",
    "accelerator_count = 1\n",
    "accelerator_type = \"NVIDIA_TESLA_T4\"\n",
    "\n",
    "args = [\n",
    "    \"--batch_size\",\n",
    "    \"128\",\n",
    "    \"--num_epochs\",\n",
    "    \"20\",\n",
    "]"
   ]
  },
  {
   "cell_type": "code",
   "execution_count": null,
   "id": "2c6d5c21-8809-4982-91f6-5d3224faff2c",
   "metadata": {
    "tags": []
   },
   "outputs": [],
   "source": [
    "custom_training_job = aiplatform.CustomPythonPackageTrainingJob(\n",
    "    display_name=DISPLAY_NAME,\n",
    "    python_package_gcs_uri= f\"{BUCKET_NAME}/{package_name}\",\n",
    "    python_module_name=MODULE_NAME,\n",
    "    container_uri=IMAGE_URI,\n",
    ")"
   ]
  },
  {
   "cell_type": "code",
   "execution_count": null,
   "id": "1c1841f1-5b2e-42d4-9077-a8ff58f7bc1d",
   "metadata": {
    "tags": []
   },
   "outputs": [],
   "source": [
    "custom_training_job.run(\n",
    "    args=args,\n",
    "    base_output_dir=GCS_OUTPUT_URI_PREFIX,\n",
    "    replica_count=replica_count,\n",
    "    machine_type=machine_type,\n",
    "    accelerator_count=accelerator_count,\n",
    "    accelerator_type=accelerator_type,\n",
    "    tensorboard=tensorboard.resource_name,\n",
    "    service_account=SERVICE_ACCOUNT,\n",
    ")"
   ]
  },
  {
   "cell_type": "code",
   "execution_count": null,
   "id": "f3b0ec59-2a3b-42e4-9110-3b88f9937a27",
   "metadata": {},
   "outputs": [],
   "source": []
  }
 ],
 "metadata": {
  "environment": {
   "kernel": "cv3d-env",
   "name": "pytorch-gpu.1-13.m106",
   "type": "gcloud",
   "uri": "gcr.io/deeplearning-platform-release/pytorch-gpu.1-13:m106"
  },
  "kernelspec": {
   "display_name": "cv3d-env",
   "language": "python",
   "name": "cv3d-env"
  },
  "language_info": {
   "codemirror_mode": {
    "name": "ipython",
    "version": 3
   },
   "file_extension": ".py",
   "mimetype": "text/x-python",
   "name": "python",
   "nbconvert_exporter": "python",
   "pygments_lexer": "ipython3",
   "version": "3.8.16"
  }
 },
 "nbformat": 4,
 "nbformat_minor": 5
}
