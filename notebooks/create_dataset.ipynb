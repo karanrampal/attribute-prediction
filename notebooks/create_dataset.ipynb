{
 "cells": [
  {
   "cell_type": "markdown",
   "id": "211c5063-6c6c-400b-8f2d-21da328b9e71",
   "metadata": {},
   "source": [
    "# Import libraries"
   ]
  },
  {
   "cell_type": "code",
   "execution_count": null,
   "id": "9ecd2f79-5bd6-4f10-a35a-620d938b7eeb",
   "metadata": {
    "tags": []
   },
   "outputs": [],
   "source": [
    "import json\n",
    "import os\n",
    "\n",
    "import gcsfs\n",
    "import pandas as pd\n",
    "from sklearn.model_selection import GroupShuffleSplit"
   ]
  },
  {
   "cell_type": "code",
   "execution_count": null,
   "id": "b824869e-f39c-4815-bf6c-20a10a90a3c8",
   "metadata": {
    "tags": []
   },
   "outputs": [],
   "source": [
    "gfs = gcsfs.GCSFileSystem(project=\"airesearch-1409\")"
   ]
  },
  {
   "cell_type": "markdown",
   "id": "22164f39-f630-4454-8b8e-6897badaea1c",
   "metadata": {},
   "source": [
    "# Define variables"
   ]
  },
  {
   "cell_type": "code",
   "execution_count": null,
   "id": "9a7f0335-aa7b-4d3c-b6ab-a0a7680eaa72",
   "metadata": {
    "tags": []
   },
   "outputs": [],
   "source": [
    "root = \"gs://hm_images/\"\n",
    "img_path = \"images\"\n",
    "annotation_path = \"annotations\""
   ]
  },
  {
   "cell_type": "markdown",
   "id": "05ff6b1b-bee1-414d-b8ec-4cf425fdf48d",
   "metadata": {},
   "source": [
    "# Image counts"
   ]
  },
  {
   "cell_type": "code",
   "execution_count": null,
   "id": "5e7cf888-3b06-434a-adcc-4dd566ea4892",
   "metadata": {},
   "outputs": [],
   "source": [
    "total = 0\n",
    "for base, dirs, files in gfs.walk(os.path.join(root, img_path)):\n",
    "    count = len(files)\n",
    "    total += count\n",
    "    print(f\"{base}: {count}\")\n",
    "print(f\"Total: {total}\")"
   ]
  },
  {
   "cell_type": "markdown",
   "id": "0669a6f8-1d0b-4433-8000-7ce3d41be8f2",
   "metadata": {},
   "source": [
    "# Create data"
   ]
  },
  {
   "cell_type": "code",
   "execution_count": null,
   "id": "5843399c-c29f-42e6-b97b-1305e65ca10f",
   "metadata": {},
   "outputs": [],
   "source": [
    "num = len(os.path.join(root, img_path)) - 4\n",
    "\n",
    "file_list = gfs.glob(root + \"images/**/*.jpg\", recursive=True)\n",
    "castor_list = [int(os.path.basename(path)[:-4]) for path in file_list]\n",
    "path_list = [path[num:] for path in file_list]\n",
    "print(len(file_list))"
   ]
  },
  {
   "cell_type": "code",
   "execution_count": null,
   "id": "5fe1648e-dd18-412d-913e-aadb2c9b6a46",
   "metadata": {},
   "outputs": [],
   "source": [
    "df = pd.DataFrame(data=\n",
    "    {\n",
    "        \"path\": path_list,\n",
    "        \"castor\": castor_list\n",
    "    }\n",
    ")\n",
    "print(df.shape)\n",
    "df.head()"
   ]
  },
  {
   "cell_type": "code",
   "execution_count": null,
   "id": "1907afe5-a9f7-45ef-92fe-40df0ac5526e",
   "metadata": {},
   "outputs": [],
   "source": [
    "# df.to_csv(os.path.join(root, annotation_path, \"castors.csv\"), index=False)"
   ]
  },
  {
   "cell_type": "markdown",
   "id": "6d34b26f-8f05-42d6-8449-378fa9afe7ab",
   "metadata": {
    "tags": []
   },
   "source": [
    "# Padma table"
   ]
  },
  {
   "cell_type": "code",
   "execution_count": null,
   "id": "661fe91a-919d-421a-a83e-28df09c1bd6a",
   "metadata": {},
   "outputs": [],
   "source": [
    "padma = pd.read_parquet(\"gs://hdl_tables/dma/product_article_datamart.parquet\",\n",
    "                        columns=[\"product_code\", \"article_code\", \"castor\"])\n",
    "print(padma.shape)\n",
    "padma.head()"
   ]
  },
  {
   "cell_type": "code",
   "execution_count": null,
   "id": "626f3a95-b28a-4de8-929c-5d80b7b114ae",
   "metadata": {},
   "outputs": [],
   "source": [
    "padma.isna().any()"
   ]
  },
  {
   "cell_type": "code",
   "execution_count": null,
   "id": "a575c217-dff5-4e0b-8ac2-233b4c671547",
   "metadata": {},
   "outputs": [],
   "source": [
    "padma = padma.drop_duplicates()\n",
    "padma.shape"
   ]
  },
  {
   "cell_type": "code",
   "execution_count": null,
   "id": "3869ccf2-c432-431e-b547-c35f7318d543",
   "metadata": {},
   "outputs": [],
   "source": [
    "padma.isna().any()"
   ]
  },
  {
   "cell_type": "code",
   "execution_count": null,
   "id": "712760f0-641e-46d2-8f16-5995b1f5688d",
   "metadata": {},
   "outputs": [],
   "source": [
    "padma.dtypes"
   ]
  },
  {
   "cell_type": "code",
   "execution_count": null,
   "id": "9f42a587-543d-4c8c-98dc-b93bfecb45e2",
   "metadata": {},
   "outputs": [],
   "source": [
    "padma.castor = padma.castor.astype(int)\n",
    "padma.dtypes"
   ]
  },
  {
   "cell_type": "code",
   "execution_count": null,
   "id": "150cc3e4-21e9-4910-8640-8700ab0a3116",
   "metadata": {},
   "outputs": [],
   "source": [
    "padma.head()"
   ]
  },
  {
   "cell_type": "markdown",
   "id": "a9b0918e-d07d-4714-b621-da58f1afb754",
   "metadata": {},
   "source": [
    "# PIM table"
   ]
  },
  {
   "cell_type": "code",
   "execution_count": null,
   "id": "1cd8bcae-d12b-4dc6-82a6-31cef7882c88",
   "metadata": {
    "tags": []
   },
   "outputs": [],
   "source": [
    "cols = [\n",
    "    \"product_code\",\n",
    "    \"article_code\",\n",
    "    \"product_age_group\",\n",
    "    \"product_waist_rise\",\n",
    "    \"product_sleeve_length\",\n",
    "    \"product_garment_length\",\n",
    "    \"product_fit\",\n",
    "    \"product_sleeve_style\",\n",
    "    \"product_neck_line_style\",\n",
    "    \"product_collar_style\",\n",
    "]"
   ]
  },
  {
   "cell_type": "code",
   "execution_count": null,
   "id": "c93cd23c-e54c-4125-83e5-b6b79f9d2469",
   "metadata": {
    "tags": []
   },
   "outputs": [],
   "source": [
    "pim = pd.read_parquet(\"gs://hdl_tables/dim/dim_pim.parquet\",\n",
    "                      columns=cols)\n",
    "print(pim.shape)\n",
    "pim.head()"
   ]
  },
  {
   "cell_type": "code",
   "execution_count": null,
   "id": "6cf3df48-681d-4371-aca2-6c814ef9868d",
   "metadata": {
    "tags": []
   },
   "outputs": [],
   "source": [
    "pim.isna().any()"
   ]
  },
  {
   "cell_type": "code",
   "execution_count": null,
   "id": "7c630695-726a-485f-bcd6-7e9b26b65cbe",
   "metadata": {
    "tags": []
   },
   "outputs": [],
   "source": [
    "pim.isna().sum()"
   ]
  },
  {
   "cell_type": "code",
   "execution_count": null,
   "id": "c08c5454-3be7-4bee-9f3a-bacecd17ad5a",
   "metadata": {
    "tags": []
   },
   "outputs": [],
   "source": [
    "pim = pim.dropna(axis=0, subset=[\"article_code\"])\n",
    "print(pim.shape)\n",
    "pim.head()"
   ]
  },
  {
   "cell_type": "code",
   "execution_count": null,
   "id": "0125f6d5-f9cb-4150-858e-42693d760c8c",
   "metadata": {
    "tags": []
   },
   "outputs": [],
   "source": [
    "pim.drop_duplicates(inplace=True)\n",
    "pim.shape"
   ]
  },
  {
   "cell_type": "code",
   "execution_count": null,
   "id": "0caa1142-af96-45e8-a1ed-c1701ff947b7",
   "metadata": {
    "tags": []
   },
   "outputs": [],
   "source": [
    "out = []\n",
    "for c in cols:\n",
    "    out.append(pim[c].apply(lambda x: json.loads(x) if x and \"[\" in x else x))"
   ]
  },
  {
   "cell_type": "code",
   "execution_count": null,
   "id": "3a853f2d-565f-4994-ac2f-224649f696f2",
   "metadata": {
    "tags": []
   },
   "outputs": [],
   "source": [
    "tmp = pd.concat(out, axis=1)\n",
    "print(tmp.shape)\n",
    "tmp.head()"
   ]
  },
  {
   "cell_type": "code",
   "execution_count": null,
   "id": "8ed1c793-6c51-42e8-9722-6b5b6f8eec02",
   "metadata": {
    "tags": []
   },
   "outputs": [],
   "source": [
    "out = []\n",
    "for c in cols[2:]:\n",
    "    out.append(pd.get_dummies(tmp[c].explode()).reset_index().groupby(\"index\").max())"
   ]
  },
  {
   "cell_type": "code",
   "execution_count": null,
   "id": "4499124c-d99b-4cb5-a90c-9889b292aee0",
   "metadata": {
    "tags": []
   },
   "outputs": [],
   "source": [
    "res = pd.concat(out, axis=1)\n",
    "res = pd.concat([pim[cols[:2]], res], axis=1)\n",
    "print(res.shape)\n",
    "res.head()"
   ]
  },
  {
   "cell_type": "code",
   "execution_count": null,
   "id": "1dc0f53f-b35c-432c-b2d4-b5e92ff2fdd4",
   "metadata": {
    "tags": []
   },
   "outputs": [],
   "source": [
    "res.isna().any().sum()"
   ]
  },
  {
   "cell_type": "markdown",
   "id": "072dc93d-e825-42a4-80e7-87baa620ec42",
   "metadata": {},
   "source": [
    "# Merge pim, padma"
   ]
  },
  {
   "cell_type": "code",
   "execution_count": null,
   "id": "2bbd637c-ab34-432b-80f5-671477214a98",
   "metadata": {},
   "outputs": [],
   "source": [
    "data = res.merge(padma, on=[\"product_code\", \"article_code\"], how=\"left\")\n",
    "print(data.shape)\n",
    "data.head()"
   ]
  },
  {
   "cell_type": "code",
   "execution_count": null,
   "id": "117e2e2e-a574-4456-8446-e5715e8cd3ea",
   "metadata": {
    "tags": []
   },
   "outputs": [],
   "source": [
    "data.dtypes"
   ]
  },
  {
   "cell_type": "code",
   "execution_count": null,
   "id": "f4482cfe-b014-471c-8694-ebc195d72671",
   "metadata": {
    "tags": []
   },
   "outputs": [],
   "source": [
    "print(data.isna().any().sum())\n",
    "data.isna().any()"
   ]
  },
  {
   "cell_type": "code",
   "execution_count": null,
   "id": "f4f17d69-e978-44b9-bcf4-61399b3ee5a6",
   "metadata": {
    "tags": []
   },
   "outputs": [],
   "source": [
    "data.dropna(inplace=True)\n",
    "print(data.shape)\n",
    "print(data.isna().any().sum())"
   ]
  },
  {
   "cell_type": "code",
   "execution_count": null,
   "id": "273b270f-73ef-4c43-9228-1b31b7f4c5dd",
   "metadata": {},
   "outputs": [],
   "source": [
    "data = data.drop(axis=1, labels=[\"product_code\", \"article_code\"])\n",
    "data.shape"
   ]
  },
  {
   "cell_type": "markdown",
   "id": "da58de0d-cc8a-4a52-b892-94aff208bb02",
   "metadata": {},
   "source": [
    "# Merge with castors"
   ]
  },
  {
   "cell_type": "code",
   "execution_count": null,
   "id": "9eecf29f-a81b-44f3-bd24-4e854f7cc353",
   "metadata": {
    "tags": []
   },
   "outputs": [],
   "source": [
    "df.dtypes"
   ]
  },
  {
   "cell_type": "code",
   "execution_count": null,
   "id": "e56992f9-8698-4546-9642-be61f1bd50bd",
   "metadata": {},
   "outputs": [],
   "source": [
    "out = df.merge(data, on=\"castor\", how=\"inner\")\n",
    "print(out.shape)\n",
    "out.head()"
   ]
  },
  {
   "cell_type": "code",
   "execution_count": null,
   "id": "003affe5-6a77-4544-94c8-f0fcaf9d0920",
   "metadata": {
    "tags": []
   },
   "outputs": [],
   "source": [
    "print(out.isna().any().sum())\n",
    "out.isna().any()"
   ]
  },
  {
   "cell_type": "code",
   "execution_count": null,
   "id": "90c131da-e6f7-4f00-ad4e-24fe1238f6e8",
   "metadata": {},
   "outputs": [],
   "source": [
    "out.dtypes"
   ]
  },
  {
   "cell_type": "code",
   "execution_count": null,
   "id": "bb093509-d824-43a9-811f-04174735d560",
   "metadata": {},
   "outputs": [],
   "source": [
    "out.castor.unique().shape"
   ]
  },
  {
   "cell_type": "markdown",
   "id": "e158197e-aa82-4164-88fa-9ba4e8498f28",
   "metadata": {},
   "source": [
    "# Split data"
   ]
  },
  {
   "cell_type": "code",
   "execution_count": null,
   "id": "45035001-bc9c-4764-8e5e-b0e441de01e8",
   "metadata": {},
   "outputs": [],
   "source": [
    "gss = GroupShuffleSplit(n_splits=1, train_size=.9, random_state=42)"
   ]
  },
  {
   "cell_type": "code",
   "execution_count": null,
   "id": "796fdb8f-fe62-41a8-9445-f61564112e6e",
   "metadata": {
    "scrolled": true,
    "tags": []
   },
   "outputs": [],
   "source": [
    "train_idxs, test_idxs = next(gss.split(X=out.path, groups=out.castor))\n",
    "print(\"TRAIN:\", out.castor[train_idxs], out.path[train_idxs])\n",
    "print(\" TEST:\", out.castor[test_idxs], out.path[test_idxs])"
   ]
  },
  {
   "cell_type": "code",
   "execution_count": null,
   "id": "3c2c5507-16c1-488d-88e9-2df4ad02fccf",
   "metadata": {},
   "outputs": [],
   "source": [
    "len(train_idxs)"
   ]
  },
  {
   "cell_type": "code",
   "execution_count": null,
   "id": "9ebbccb0-7819-41dc-93b4-1497c1b33fd0",
   "metadata": {},
   "outputs": [],
   "source": [
    "len(test_idxs)"
   ]
  },
  {
   "cell_type": "code",
   "execution_count": null,
   "id": "56455671-0546-45e0-a357-6631a2e8f224",
   "metadata": {
    "tags": []
   },
   "outputs": [],
   "source": [
    "assert not set(out.castor[train_idxs]) & set(out.castor[test_idxs])"
   ]
  },
  {
   "cell_type": "markdown",
   "id": "ccf9df3c-e8f1-42f9-9c77-4dafac860e17",
   "metadata": {
    "tags": []
   },
   "source": [
    "# Write data"
   ]
  },
  {
   "cell_type": "code",
   "execution_count": null,
   "id": "d762eb07-e4f1-4028-94da-fa5375e77e83",
   "metadata": {
    "tags": []
   },
   "outputs": [],
   "source": [
    "out.drop(columns=[\"castor\"], axis=1, inplace=True)\n",
    "\n",
    "train = out.iloc[train_idxs, :]\n",
    "test = out.iloc[test_idxs, :]\n",
    "\n",
    "print(train.shape)\n",
    "print(test.shape)"
   ]
  },
  {
   "cell_type": "code",
   "execution_count": null,
   "id": "0e56ee75-4e1e-4574-a351-3d23280ed29e",
   "metadata": {
    "tags": []
   },
   "outputs": [],
   "source": [
    "train.head()"
   ]
  },
  {
   "cell_type": "code",
   "execution_count": null,
   "id": "a7fe776c-c681-44ae-9354-eafdb26bdb39",
   "metadata": {
    "tags": []
   },
   "outputs": [],
   "source": [
    "test.head()"
   ]
  },
  {
   "cell_type": "code",
   "execution_count": null,
   "id": "f39835c7-e3a2-4050-a703-b5fe836e8cdc",
   "metadata": {},
   "outputs": [],
   "source": [
    "# train.to_csv(os.path.join(root, annotation_path, \"train.csv\"), index=False)\n",
    "# test.to_csv(os.path.join(root, annotation_path, \"test.csv\"), index=False)"
   ]
  },
  {
   "cell_type": "code",
   "execution_count": null,
   "id": "fa223a95-c3ec-4081-8b66-693d1b0f8f28",
   "metadata": {},
   "outputs": [],
   "source": []
  }
 ],
 "metadata": {
  "environment": {
   "kernel": "python3",
   "name": "pytorch-gpu.1-13.m106",
   "type": "gcloud",
   "uri": "gcr.io/deeplearning-platform-release/pytorch-gpu.1-13:m106"
  },
  "kernelspec": {
   "display_name": "Python 3",
   "language": "python",
   "name": "python3"
  },
  "language_info": {
   "codemirror_mode": {
    "name": "ipython",
    "version": 3
   },
   "file_extension": ".py",
   "mimetype": "text/x-python",
   "name": "python",
   "nbconvert_exporter": "python",
   "pygments_lexer": "ipython3",
   "version": "3.7.12"
  }
 },
 "nbformat": 4,
 "nbformat_minor": 5
}
